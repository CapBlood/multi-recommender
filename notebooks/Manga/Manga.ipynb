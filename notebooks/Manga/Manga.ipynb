{
 "cells": [
  {
   "attachments": {},
   "cell_type": "markdown",
   "metadata": {},
   "source": [
    "# Manga Recommendation System"
   ]
  },
  {
   "attachments": {},
   "cell_type": "markdown",
   "metadata": {},
   "source": [
    "[Источник](https://www.kaggle.com/datasets/andreuvallhernndez/myanimelist?select=manga.csv) набора данных."
   ]
  },
  {
   "cell_type": "code",
   "execution_count": 1,
   "metadata": {},
   "outputs": [],
   "source": [
    "%%capture\n",
    "%load_ext kedro.ipython\n",
    "%reload_kedro ../.."
   ]
  },
  {
   "cell_type": "code",
   "execution_count": 2,
   "metadata": {},
   "outputs": [],
   "source": [
    "import pandas as pd\n",
    "\n",
    "\n",
    "df = pd.read_csv('./data/manga.csv', index_col='manga_id')"
   ]
  },
  {
   "cell_type": "code",
   "execution_count": 3,
   "metadata": {},
   "outputs": [
    {
     "data": {
      "text/html": [
       "<div>\n",
       "<style scoped>\n",
       "    .dataframe tbody tr th:only-of-type {\n",
       "        vertical-align: middle;\n",
       "    }\n",
       "\n",
       "    .dataframe tbody tr th {\n",
       "        vertical-align: top;\n",
       "    }\n",
       "\n",
       "    .dataframe thead th {\n",
       "        text-align: right;\n",
       "    }\n",
       "</style>\n",
       "<table border=\"1\" class=\"dataframe\">\n",
       "  <thead>\n",
       "    <tr style=\"text-align: right;\">\n",
       "      <th></th>\n",
       "      <th>title</th>\n",
       "      <th>type</th>\n",
       "      <th>score</th>\n",
       "      <th>scored_by</th>\n",
       "      <th>status</th>\n",
       "      <th>volumes</th>\n",
       "      <th>chapters</th>\n",
       "      <th>start_date</th>\n",
       "      <th>end_date</th>\n",
       "      <th>members</th>\n",
       "      <th>...</th>\n",
       "      <th>authors</th>\n",
       "      <th>serializations</th>\n",
       "      <th>synopsis</th>\n",
       "      <th>background</th>\n",
       "      <th>main_picture</th>\n",
       "      <th>url</th>\n",
       "      <th>title_english</th>\n",
       "      <th>title_japanese</th>\n",
       "      <th>title_synonyms</th>\n",
       "      <th>jikan</th>\n",
       "    </tr>\n",
       "    <tr>\n",
       "      <th>manga_id</th>\n",
       "      <th></th>\n",
       "      <th></th>\n",
       "      <th></th>\n",
       "      <th></th>\n",
       "      <th></th>\n",
       "      <th></th>\n",
       "      <th></th>\n",
       "      <th></th>\n",
       "      <th></th>\n",
       "      <th></th>\n",
       "      <th></th>\n",
       "      <th></th>\n",
       "      <th></th>\n",
       "      <th></th>\n",
       "      <th></th>\n",
       "      <th></th>\n",
       "      <th></th>\n",
       "      <th></th>\n",
       "      <th></th>\n",
       "      <th></th>\n",
       "      <th></th>\n",
       "    </tr>\n",
       "  </thead>\n",
       "  <tbody>\n",
       "    <tr>\n",
       "      <th>2</th>\n",
       "      <td>Berserk</td>\n",
       "      <td>manga</td>\n",
       "      <td>9.45</td>\n",
       "      <td>268737</td>\n",
       "      <td>currently_publishing</td>\n",
       "      <td>NaN</td>\n",
       "      <td>NaN</td>\n",
       "      <td>1989-08-25</td>\n",
       "      <td>NaN</td>\n",
       "      <td>551266</td>\n",
       "      <td>...</td>\n",
       "      <td>[{'id': 1868, 'first_name': 'Kentarou', 'last_...</td>\n",
       "      <td>['Young Animal']</td>\n",
       "      <td>Guts, a former mercenary now known as the \"Bla...</td>\n",
       "      <td>Berserk won the Award for Excellence at the si...</td>\n",
       "      <td>https://cdn.myanimelist.net/images/manga/1/157...</td>\n",
       "      <td>https://myanimelist.net/manga/2/Berserk</td>\n",
       "      <td>Berserk</td>\n",
       "      <td>ベルセルク</td>\n",
       "      <td>['Berserk: The Prototype']</td>\n",
       "      <td>True</td>\n",
       "    </tr>\n",
       "    <tr>\n",
       "      <th>13</th>\n",
       "      <td>One Piece</td>\n",
       "      <td>manga</td>\n",
       "      <td>9.20</td>\n",
       "      <td>305917</td>\n",
       "      <td>currently_publishing</td>\n",
       "      <td>NaN</td>\n",
       "      <td>NaN</td>\n",
       "      <td>1997-07-22</td>\n",
       "      <td>NaN</td>\n",
       "      <td>501291</td>\n",
       "      <td>...</td>\n",
       "      <td>[{'id': 1881, 'first_name': 'Eiichiro', 'last_...</td>\n",
       "      <td>['Shounen Jump (Weekly)']</td>\n",
       "      <td>Gol D. Roger, a man referred to as the \"Pirate...</td>\n",
       "      <td>One Piece is the highest selling manga series ...</td>\n",
       "      <td>https://cdn.myanimelist.net/images/manga/2/253...</td>\n",
       "      <td>https://myanimelist.net/manga/13/One_Piece</td>\n",
       "      <td>One Piece</td>\n",
       "      <td>ONE PIECE</td>\n",
       "      <td>[]</td>\n",
       "      <td>True</td>\n",
       "    </tr>\n",
       "  </tbody>\n",
       "</table>\n",
       "<p>2 rows × 30 columns</p>\n",
       "</div>"
      ]
     },
     "execution_count": 3,
     "metadata": {},
     "output_type": "execute_result"
    }
   ],
   "source": [
    "df.head(2)"
   ]
  },
  {
   "cell_type": "code",
   "execution_count": 4,
   "metadata": {},
   "outputs": [
    {
     "data": {
      "text/html": [
       "<pre style=\"white-space:pre;overflow-x:auto;line-height:normal;font-family:Menlo,'DejaVu Sans Mono',consolas,'Courier New',monospace\">\n",
       "<span style=\"color: #800080; text-decoration-color: #800080; font-weight: bold\">Index</span><span style=\"font-weight: bold\">([</span><span style=\"color: #008000; text-decoration-color: #008000\">'title'</span>, <span style=\"color: #008000; text-decoration-color: #008000\">'type'</span>, <span style=\"color: #008000; text-decoration-color: #008000\">'score'</span>, <span style=\"color: #008000; text-decoration-color: #008000\">'scored_by'</span>, <span style=\"color: #008000; text-decoration-color: #008000\">'status'</span>, <span style=\"color: #008000; text-decoration-color: #008000\">'volumes'</span>, <span style=\"color: #008000; text-decoration-color: #008000\">'chapters'</span>,\n",
       "       <span style=\"color: #008000; text-decoration-color: #008000\">'start_date'</span>, <span style=\"color: #008000; text-decoration-color: #008000\">'end_date'</span>, <span style=\"color: #008000; text-decoration-color: #008000\">'members'</span>, <span style=\"color: #008000; text-decoration-color: #008000\">'favorites'</span>, <span style=\"color: #008000; text-decoration-color: #008000\">'sfw'</span>, <span style=\"color: #008000; text-decoration-color: #008000\">'approved'</span>,\n",
       "       <span style=\"color: #008000; text-decoration-color: #008000\">'created_at_before'</span>, <span style=\"color: #008000; text-decoration-color: #008000\">'updated_at'</span>, <span style=\"color: #008000; text-decoration-color: #008000\">'real_start_date'</span>, <span style=\"color: #008000; text-decoration-color: #008000\">'real_end_date'</span>,\n",
       "       <span style=\"color: #008000; text-decoration-color: #008000\">'genres'</span>, <span style=\"color: #008000; text-decoration-color: #008000\">'themes'</span>, <span style=\"color: #008000; text-decoration-color: #008000\">'demographics'</span>, <span style=\"color: #008000; text-decoration-color: #008000\">'authors'</span>, <span style=\"color: #008000; text-decoration-color: #008000\">'serializations'</span>,\n",
       "       <span style=\"color: #008000; text-decoration-color: #008000\">'synopsis'</span>, <span style=\"color: #008000; text-decoration-color: #008000\">'background'</span>, <span style=\"color: #008000; text-decoration-color: #008000\">'main_picture'</span>, <span style=\"color: #008000; text-decoration-color: #008000\">'url'</span>, <span style=\"color: #008000; text-decoration-color: #008000\">'title_english'</span>,\n",
       "       <span style=\"color: #008000; text-decoration-color: #008000\">'title_japanese'</span>, <span style=\"color: #008000; text-decoration-color: #008000\">'title_synonyms'</span>, <span style=\"color: #008000; text-decoration-color: #008000\">'jikan'</span><span style=\"font-weight: bold\">]</span>,\n",
       "      <span style=\"color: #808000; text-decoration-color: #808000\">dtype</span>=<span style=\"color: #008000; text-decoration-color: #008000\">'object'</span><span style=\"font-weight: bold\">)</span>\n",
       "</pre>\n"
      ],
      "text/plain": [
       "\n",
       "\u001b[1;35mIndex\u001b[0m\u001b[1m(\u001b[0m\u001b[1m[\u001b[0m\u001b[32m'title'\u001b[0m, \u001b[32m'type'\u001b[0m, \u001b[32m'score'\u001b[0m, \u001b[32m'scored_by'\u001b[0m, \u001b[32m'status'\u001b[0m, \u001b[32m'volumes'\u001b[0m, \u001b[32m'chapters'\u001b[0m,\n",
       "       \u001b[32m'start_date'\u001b[0m, \u001b[32m'end_date'\u001b[0m, \u001b[32m'members'\u001b[0m, \u001b[32m'favorites'\u001b[0m, \u001b[32m'sfw'\u001b[0m, \u001b[32m'approved'\u001b[0m,\n",
       "       \u001b[32m'created_at_before'\u001b[0m, \u001b[32m'updated_at'\u001b[0m, \u001b[32m'real_start_date'\u001b[0m, \u001b[32m'real_end_date'\u001b[0m,\n",
       "       \u001b[32m'genres'\u001b[0m, \u001b[32m'themes'\u001b[0m, \u001b[32m'demographics'\u001b[0m, \u001b[32m'authors'\u001b[0m, \u001b[32m'serializations'\u001b[0m,\n",
       "       \u001b[32m'synopsis'\u001b[0m, \u001b[32m'background'\u001b[0m, \u001b[32m'main_picture'\u001b[0m, \u001b[32m'url'\u001b[0m, \u001b[32m'title_english'\u001b[0m,\n",
       "       \u001b[32m'title_japanese'\u001b[0m, \u001b[32m'title_synonyms'\u001b[0m, \u001b[32m'jikan'\u001b[0m\u001b[1m]\u001b[0m,\n",
       "      \u001b[33mdtype\u001b[0m=\u001b[32m'object'\u001b[0m\u001b[1m)\u001b[0m\n"
      ]
     },
     "metadata": {},
     "output_type": "display_data"
    }
   ],
   "source": [
    "df.columns"
   ]
  },
  {
   "cell_type": "code",
   "execution_count": 5,
   "metadata": {},
   "outputs": [
    {
     "data": {
      "text/html": [
       "<div>\n",
       "<style scoped>\n",
       "    .dataframe tbody tr th:only-of-type {\n",
       "        vertical-align: middle;\n",
       "    }\n",
       "\n",
       "    .dataframe tbody tr th {\n",
       "        vertical-align: top;\n",
       "    }\n",
       "\n",
       "    .dataframe thead th {\n",
       "        text-align: right;\n",
       "    }\n",
       "</style>\n",
       "<table border=\"1\" class=\"dataframe\">\n",
       "  <thead>\n",
       "    <tr style=\"text-align: right;\">\n",
       "      <th></th>\n",
       "      <th>title</th>\n",
       "      <th>genres</th>\n",
       "      <th>themes</th>\n",
       "    </tr>\n",
       "    <tr>\n",
       "      <th>manga_id</th>\n",
       "      <th></th>\n",
       "      <th></th>\n",
       "      <th></th>\n",
       "    </tr>\n",
       "  </thead>\n",
       "  <tbody>\n",
       "    <tr>\n",
       "      <th>2</th>\n",
       "      <td>Berserk</td>\n",
       "      <td>['Action', 'Adventure', 'Award Winning', 'Dram...</td>\n",
       "      <td>['Gore', 'Military', 'Mythology', 'Psychologic...</td>\n",
       "    </tr>\n",
       "    <tr>\n",
       "      <th>13</th>\n",
       "      <td>One Piece</td>\n",
       "      <td>['Action', 'Adventure', 'Fantasy']</td>\n",
       "      <td>[]</td>\n",
       "    </tr>\n",
       "  </tbody>\n",
       "</table>\n",
       "</div>"
      ]
     },
     "execution_count": 5,
     "metadata": {},
     "output_type": "execute_result"
    }
   ],
   "source": [
    "df[['title', 'genres', 'themes']].head(2)"
   ]
  },
  {
   "cell_type": "code",
   "execution_count": 34,
   "metadata": {},
   "outputs": [],
   "source": [
    "from multirec.web.utils import parse_line_list\n",
    "\n",
    "def merge_genres_themes(args):\n",
    "    genres, themes = args\n",
    "    genres, themes = genres.replace(\"'\", \"\\\"\"), themes.replace(\"'\", \"\\\"\")\n",
    "\n",
    "    list_genres = parse_line_list(\n",
    "        genres, func=lambda line: line.strip(\"'\"))\n",
    "    list_themes = parse_line_list(\n",
    "        themes, func=lambda line: line.strip(\"'\"))\n",
    "\n",
    "    merged_list = []\n",
    "    if len(list_genres) > 0:\n",
    "        merged_list.extend(list_genres)\n",
    "    if len(list_themes) > 0:\n",
    "        merged_list.extend(list_themes)\n",
    "\n",
    "    return \", \".join(merged_list)\n",
    "\n",
    "df['Tags'] = df[['genres', 'themes']].apply(\n",
    "    merge_genres_themes,\n",
    "    axis=1\n",
    ")"
   ]
  },
  {
   "cell_type": "code",
   "execution_count": 35,
   "metadata": {},
   "outputs": [
    {
     "data": {
      "text/html": [
       "<pre style=\"white-space:pre;overflow-x:auto;line-height:normal;font-family:Menlo,'DejaVu Sans Mono',consolas,'Courier New',monospace\">\n",
       "<span style=\"color: #800080; text-decoration-color: #800080; font-weight: bold\">Index</span><span style=\"font-weight: bold\">([</span><span style=\"color: #008000; text-decoration-color: #008000\">'title'</span>, <span style=\"color: #008000; text-decoration-color: #008000\">'type'</span>, <span style=\"color: #008000; text-decoration-color: #008000\">'score'</span>, <span style=\"color: #008000; text-decoration-color: #008000\">'scored_by'</span>, <span style=\"color: #008000; text-decoration-color: #008000\">'status'</span>, <span style=\"color: #008000; text-decoration-color: #008000\">'volumes'</span>, <span style=\"color: #008000; text-decoration-color: #008000\">'chapters'</span>,\n",
       "       <span style=\"color: #008000; text-decoration-color: #008000\">'start_date'</span>, <span style=\"color: #008000; text-decoration-color: #008000\">'end_date'</span>, <span style=\"color: #008000; text-decoration-color: #008000\">'members'</span>, <span style=\"color: #008000; text-decoration-color: #008000\">'favorites'</span>, <span style=\"color: #008000; text-decoration-color: #008000\">'sfw'</span>, <span style=\"color: #008000; text-decoration-color: #008000\">'approved'</span>,\n",
       "       <span style=\"color: #008000; text-decoration-color: #008000\">'created_at_before'</span>, <span style=\"color: #008000; text-decoration-color: #008000\">'updated_at'</span>, <span style=\"color: #008000; text-decoration-color: #008000\">'real_start_date'</span>, <span style=\"color: #008000; text-decoration-color: #008000\">'real_end_date'</span>,\n",
       "       <span style=\"color: #008000; text-decoration-color: #008000\">'genres'</span>, <span style=\"color: #008000; text-decoration-color: #008000\">'themes'</span>, <span style=\"color: #008000; text-decoration-color: #008000\">'demographics'</span>, <span style=\"color: #008000; text-decoration-color: #008000\">'authors'</span>, <span style=\"color: #008000; text-decoration-color: #008000\">'serializations'</span>,\n",
       "       <span style=\"color: #008000; text-decoration-color: #008000\">'synopsis'</span>, <span style=\"color: #008000; text-decoration-color: #008000\">'background'</span>, <span style=\"color: #008000; text-decoration-color: #008000\">'main_picture'</span>, <span style=\"color: #008000; text-decoration-color: #008000\">'url'</span>, <span style=\"color: #008000; text-decoration-color: #008000\">'title_english'</span>,\n",
       "       <span style=\"color: #008000; text-decoration-color: #008000\">'title_japanese'</span>, <span style=\"color: #008000; text-decoration-color: #008000\">'title_synonyms'</span>, <span style=\"color: #008000; text-decoration-color: #008000\">'jikan'</span>, <span style=\"color: #008000; text-decoration-color: #008000\">'Tags'</span><span style=\"font-weight: bold\">]</span>,\n",
       "      <span style=\"color: #808000; text-decoration-color: #808000\">dtype</span>=<span style=\"color: #008000; text-decoration-color: #008000\">'object'</span><span style=\"font-weight: bold\">)</span>\n",
       "</pre>\n"
      ],
      "text/plain": [
       "\n",
       "\u001b[1;35mIndex\u001b[0m\u001b[1m(\u001b[0m\u001b[1m[\u001b[0m\u001b[32m'title'\u001b[0m, \u001b[32m'type'\u001b[0m, \u001b[32m'score'\u001b[0m, \u001b[32m'scored_by'\u001b[0m, \u001b[32m'status'\u001b[0m, \u001b[32m'volumes'\u001b[0m, \u001b[32m'chapters'\u001b[0m,\n",
       "       \u001b[32m'start_date'\u001b[0m, \u001b[32m'end_date'\u001b[0m, \u001b[32m'members'\u001b[0m, \u001b[32m'favorites'\u001b[0m, \u001b[32m'sfw'\u001b[0m, \u001b[32m'approved'\u001b[0m,\n",
       "       \u001b[32m'created_at_before'\u001b[0m, \u001b[32m'updated_at'\u001b[0m, \u001b[32m'real_start_date'\u001b[0m, \u001b[32m'real_end_date'\u001b[0m,\n",
       "       \u001b[32m'genres'\u001b[0m, \u001b[32m'themes'\u001b[0m, \u001b[32m'demographics'\u001b[0m, \u001b[32m'authors'\u001b[0m, \u001b[32m'serializations'\u001b[0m,\n",
       "       \u001b[32m'synopsis'\u001b[0m, \u001b[32m'background'\u001b[0m, \u001b[32m'main_picture'\u001b[0m, \u001b[32m'url'\u001b[0m, \u001b[32m'title_english'\u001b[0m,\n",
       "       \u001b[32m'title_japanese'\u001b[0m, \u001b[32m'title_synonyms'\u001b[0m, \u001b[32m'jikan'\u001b[0m, \u001b[32m'Tags'\u001b[0m\u001b[1m]\u001b[0m,\n",
       "      \u001b[33mdtype\u001b[0m=\u001b[32m'object'\u001b[0m\u001b[1m)\u001b[0m\n"
      ]
     },
     "metadata": {},
     "output_type": "display_data"
    }
   ],
   "source": [
    "df.columns"
   ]
  },
  {
   "cell_type": "code",
   "execution_count": 36,
   "metadata": {},
   "outputs": [],
   "source": [
    "# Выберем только нужные столбцы\n",
    "filtered_df = df[['title', 'synopsis', 'Tags', 'url']]"
   ]
  },
  {
   "cell_type": "code",
   "execution_count": 37,
   "metadata": {},
   "outputs": [
    {
     "data": {
      "text/html": [
       "<div>\n",
       "<style scoped>\n",
       "    .dataframe tbody tr th:only-of-type {\n",
       "        vertical-align: middle;\n",
       "    }\n",
       "\n",
       "    .dataframe tbody tr th {\n",
       "        vertical-align: top;\n",
       "    }\n",
       "\n",
       "    .dataframe thead th {\n",
       "        text-align: right;\n",
       "    }\n",
       "</style>\n",
       "<table border=\"1\" class=\"dataframe\">\n",
       "  <thead>\n",
       "    <tr style=\"text-align: right;\">\n",
       "      <th></th>\n",
       "      <th>title</th>\n",
       "      <th>synopsis</th>\n",
       "      <th>Tags</th>\n",
       "      <th>url</th>\n",
       "    </tr>\n",
       "    <tr>\n",
       "      <th>manga_id</th>\n",
       "      <th></th>\n",
       "      <th></th>\n",
       "      <th></th>\n",
       "      <th></th>\n",
       "    </tr>\n",
       "  </thead>\n",
       "  <tbody>\n",
       "    <tr>\n",
       "      <th>2</th>\n",
       "      <td>Berserk</td>\n",
       "      <td>Guts, a former mercenary now known as the \"Bla...</td>\n",
       "      <td>Action, Adventure, Award Winning, Drama, Fanta...</td>\n",
       "      <td>https://myanimelist.net/manga/2/Berserk</td>\n",
       "    </tr>\n",
       "    <tr>\n",
       "      <th>13</th>\n",
       "      <td>One Piece</td>\n",
       "      <td>Gol D. Roger, a man referred to as the \"Pirate...</td>\n",
       "      <td>Action, Adventure, Fantasy</td>\n",
       "      <td>https://myanimelist.net/manga/13/One_Piece</td>\n",
       "    </tr>\n",
       "  </tbody>\n",
       "</table>\n",
       "</div>"
      ]
     },
     "execution_count": 37,
     "metadata": {},
     "output_type": "execute_result"
    }
   ],
   "source": [
    "filtered_df.head(2)"
   ]
  },
  {
   "cell_type": "code",
   "execution_count": 38,
   "metadata": {},
   "outputs": [],
   "source": [
    "filtered_df.to_csv('data/primary/preprocessed_manga.csv', index=True)"
   ]
  },
  {
   "cell_type": "code",
   "execution_count": null,
   "metadata": {},
   "outputs": [],
   "source": []
  }
 ],
 "metadata": {
  "kernelspec": {
   "display_name": "base",
   "language": "python",
   "name": "python3"
  },
  "language_info": {
   "codemirror_mode": {
    "name": "ipython",
    "version": 3
   },
   "file_extension": ".py",
   "mimetype": "text/x-python",
   "name": "python",
   "nbconvert_exporter": "python",
   "pygments_lexer": "ipython3",
   "version": "3.8.13"
  },
  "orig_nbformat": 4
 },
 "nbformat": 4,
 "nbformat_minor": 2
}

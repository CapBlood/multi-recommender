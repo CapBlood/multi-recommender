{
 "cells": [
  {
   "attachments": {},
   "cell_type": "markdown",
   "metadata": {},
   "source": [
    "# Просмотр сгенерированных рекомендаций"
   ]
  },
  {
   "attachments": {},
   "cell_type": "markdown",
   "metadata": {},
   "source": [
    "Для просмотра сгенерированных рекомендаций будет использоваться пробный запуск Kedro через Python."
   ]
  },
  {
   "cell_type": "code",
   "execution_count": 1,
   "metadata": {},
   "outputs": [],
   "source": [
    "%%capture\n",
    "%load_ext kedro.ipython\n",
    "%reload_kedro .."
   ]
  },
  {
   "cell_type": "code",
   "execution_count": 2,
   "metadata": {},
   "outputs": [
    {
     "name": "stdout",
     "output_type": "stream",
     "text": [
      "\u001b[2;36m[02/26/23 15:00:28]\u001b[0m\u001b[2;36m \u001b[0m\u001b[31mWARNING \u001b[0m \u001b[35m/opt/homebrew/Caskroom/miniconda/ba\u001b[0m \u001b]8;id=117207;file:///opt/homebrew/Caskroom/miniconda/base/lib/python3.8/warnings.py\u001b\\\u001b[2mwarnings.py\u001b[0m\u001b]8;;\u001b\\\u001b[2m:\u001b[0m\u001b]8;id=754282;file:///opt/homebrew/Caskroom/miniconda/base/lib/python3.8/warnings.py#109\u001b\\\u001b[2m109\u001b[0m\u001b]8;;\u001b\\\n",
      "\u001b[2;36m                    \u001b[0m         \u001b[35mse/lib/python3.8/site-packages/jupy\u001b[0m \u001b[2m               \u001b[0m\n",
      "\u001b[2;36m                    \u001b[0m         \u001b[35mter_client/\u001b[0m\u001b[95mconnect.py\u001b[0m:\u001b[1;36m27\u001b[0m:           \u001b[2m               \u001b[0m\n",
      "\u001b[2;36m                    \u001b[0m         DeprecationWarning: Jupyter is      \u001b[2m               \u001b[0m\n",
      "\u001b[2;36m                    \u001b[0m         migrating its paths to use standard \u001b[2m               \u001b[0m\n",
      "\u001b[2;36m                    \u001b[0m         platformdirs                        \u001b[2m               \u001b[0m\n",
      "\u001b[2;36m                    \u001b[0m         given by the platformdirs library.  \u001b[2m               \u001b[0m\n",
      "\u001b[2;36m                    \u001b[0m         To remove this warning and          \u001b[2m               \u001b[0m\n",
      "\u001b[2;36m                    \u001b[0m         see the appropriate new             \u001b[2m               \u001b[0m\n",
      "\u001b[2;36m                    \u001b[0m         directories, set the environment    \u001b[2m               \u001b[0m\n",
      "\u001b[2;36m                    \u001b[0m         variable                            \u001b[2m               \u001b[0m\n",
      "\u001b[2;36m                    \u001b[0m         `\u001b[33mJUPYTER_PLATFORM_DIRS\u001b[0m=\u001b[1;36m1\u001b[0m` and then  \u001b[2m               \u001b[0m\n",
      "\u001b[2;36m                    \u001b[0m         run `jupyter --paths`.              \u001b[2m               \u001b[0m\n",
      "\u001b[2;36m                    \u001b[0m         The use of platformdirs will be the \u001b[2m               \u001b[0m\n",
      "\u001b[2;36m                    \u001b[0m         default in `jupyter_core` v6        \u001b[2m               \u001b[0m\n",
      "\u001b[2;36m                    \u001b[0m           from jupyter_core.paths import    \u001b[2m               \u001b[0m\n",
      "\u001b[2;36m                    \u001b[0m         jupyter_data_dir                    \u001b[2m               \u001b[0m\n",
      "\u001b[2;36m                    \u001b[0m                                             \u001b[2m               \u001b[0m\n",
      "\u001b[2;36m                   \u001b[0m\u001b[2;36m \u001b[0m\u001b[31mWARNING \u001b[0m \u001b[35m/opt/homebrew/Caskroom/miniconda/ba\u001b[0m \u001b]8;id=957131;file:///opt/homebrew/Caskroom/miniconda/base/lib/python3.8/warnings.py\u001b\\\u001b[2mwarnings.py\u001b[0m\u001b]8;;\u001b\\\u001b[2m:\u001b[0m\u001b]8;id=610414;file:///opt/homebrew/Caskroom/miniconda/base/lib/python3.8/warnings.py#109\u001b\\\u001b[2m109\u001b[0m\u001b]8;;\u001b\\\n",
      "\u001b[2;36m                    \u001b[0m         \u001b[35mse/lib/python3.8/site-packages/plot\u001b[0m \u001b[2m               \u001b[0m\n",
      "\u001b[2;36m                    \u001b[0m         \u001b[35mly/graph_objects/\u001b[0m\u001b[95m__init__.py\u001b[0m:\u001b[1;36m287\u001b[0m:   \u001b[2m               \u001b[0m\n",
      "\u001b[2;36m                    \u001b[0m         DeprecationWarning: distutils       \u001b[2m               \u001b[0m\n",
      "\u001b[2;36m                    \u001b[0m         Version classes are deprecated. Use \u001b[2m               \u001b[0m\n",
      "\u001b[2;36m                    \u001b[0m         packaging.version instead.          \u001b[2m               \u001b[0m\n",
      "\u001b[2;36m                    \u001b[0m           if                                \u001b[2m               \u001b[0m\n",
      "\u001b[2;36m                    \u001b[0m         \u001b[1;35mLooseVersion\u001b[0m\u001b[1m(\u001b[0mipywidgets.__version__ \u001b[2m               \u001b[0m\n",
      "\u001b[2;36m                    \u001b[0m         \u001b[1m)\u001b[0m >= \u001b[1;35mLooseVersion\u001b[0m\u001b[1m(\u001b[0m\u001b[32m\"7.0.0\"\u001b[0m\u001b[1m)\u001b[0m:         \u001b[2m               \u001b[0m\n",
      "\u001b[2;36m                    \u001b[0m                                             \u001b[2m               \u001b[0m\n"
     ]
    },
    {
     "data": {
      "text/html": [
       "\n",
       "                <html lang=\"en\"><head></head><body style=\"width:100; height:100;\">\n",
       "                <iframe src=\"http://127.0.0.1:4141/\" height=500 width=\"100%\"></iframe>\n",
       "                </body></html>"
      ]
     },
     "metadata": {},
     "output_type": "display_data"
    }
   ],
   "source": [
    "%run_viz"
   ]
  },
  {
   "cell_type": "code",
   "execution_count": 35,
   "metadata": {},
   "outputs": [],
   "source": [
    "%%capture\n",
    "\n",
    "from kedro.io import DataCatalog, MemoryDataSet\n",
    "from kedro.extras.datasets.pandas import CSVDataSet\n",
    "\n",
    "from kedro.runner import SequentialRunner\n",
    "from kedro.framework.project import pipelines\n",
    "\n",
    "\n",
    "input_csv = \"Anime/data/extended_anime_2.csv\"\n",
    "col = \"Tags\"\n",
    "\n",
    "\n",
    "io = DataCatalog(\n",
    "        {\n",
    "            'dataframe': CSVDataSet(\n",
    "                filepath=input_csv, load_args={'index_col': 'Rank'}),\n",
    "            'dataframe_with_recs': MemoryDataSet(),\n",
    "            'params:target_column': MemoryDataSet(col)\n",
    "        }\n",
    "    )\n",
    "\n",
    "    \n",
    "default_pipeline = pipelines['__default__']\n",
    "\n",
    "SequentialRunner().run(default_pipeline, catalog=io)"
   ]
  },
  {
   "cell_type": "code",
   "execution_count": 2,
   "metadata": {},
   "outputs": [
    {
     "ename": "NameError",
     "evalue": "name 'io' is not defined",
     "output_type": "error",
     "traceback": [
      "\u001b[0;31m---------------------------------------------------------------------------\u001b[0m",
      "\u001b[0;31mNameError\u001b[0m                                 Traceback (most recent call last)",
      "\u001b[0;32m/var/folders/lm/0j0v2m453ks57mmwdnjfvz700000gn/T/ipykernel_33293/2271370501.py\u001b[0m in \u001b[0;36m<cell line: 1>\u001b[0;34m()\u001b[0m\n\u001b[0;32m----> 1\u001b[0;31m \u001b[0mdf_with_recs\u001b[0m \u001b[0;34m=\u001b[0m \u001b[0mio\u001b[0m\u001b[0;34m.\u001b[0m\u001b[0mload\u001b[0m\u001b[0;34m(\u001b[0m\u001b[0;34m'dataframe_with_recs'\u001b[0m\u001b[0;34m)\u001b[0m\u001b[0;34m\u001b[0m\u001b[0;34m\u001b[0m\u001b[0m\n\u001b[0m",
      "\u001b[0;31mNameError\u001b[0m: name 'io' is not defined"
     ]
    }
   ],
   "source": [
    "df_with_recs = io.load('dataframe_with_recs')"
   ]
  },
  {
   "cell_type": "code",
   "execution_count": 32,
   "metadata": {},
   "outputs": [
    {
     "data": {
      "text/html": [
       "<div>\n",
       "<style scoped>\n",
       "    .dataframe tbody tr th:only-of-type {\n",
       "        vertical-align: middle;\n",
       "    }\n",
       "\n",
       "    .dataframe tbody tr th {\n",
       "        vertical-align: top;\n",
       "    }\n",
       "\n",
       "    .dataframe thead th {\n",
       "        text-align: right;\n",
       "    }\n",
       "</style>\n",
       "<table border=\"1\" class=\"dataframe\">\n",
       "  <thead>\n",
       "    <tr style=\"text-align: right;\">\n",
       "      <th></th>\n",
       "      <th>Name</th>\n",
       "      <th>Japanese_name</th>\n",
       "      <th>Type</th>\n",
       "      <th>Episodes</th>\n",
       "      <th>Studio</th>\n",
       "      <th>Release_season</th>\n",
       "      <th>Tags</th>\n",
       "      <th>Rating</th>\n",
       "      <th>Release_year</th>\n",
       "      <th>End_year</th>\n",
       "      <th>...</th>\n",
       "      <th>Related_anime</th>\n",
       "      <th>Voice_actors</th>\n",
       "      <th>staff</th>\n",
       "      <th>Russian_name</th>\n",
       "      <th>Russian_description</th>\n",
       "      <th>Image_url</th>\n",
       "      <th>Shikimori_url</th>\n",
       "      <th>Franchise</th>\n",
       "      <th>Shikimori_rating</th>\n",
       "      <th>recommendations</th>\n",
       "    </tr>\n",
       "  </thead>\n",
       "  <tbody>\n",
       "    <tr>\n",
       "      <th>0</th>\n",
       "      <td>Demon Slayer: Kimetsu no Yaiba - Entertainment...</td>\n",
       "      <td>Kimetsu no Yaiba: Yuukaku-hen</td>\n",
       "      <td>TV</td>\n",
       "      <td>NaN</td>\n",
       "      <td>ufotable</td>\n",
       "      <td>Fall</td>\n",
       "      <td>Action, Adventure, Fantasy, Shounen, Demons, H...</td>\n",
       "      <td>4.60</td>\n",
       "      <td>2021.0</td>\n",
       "      <td>NaN</td>\n",
       "      <td>...</td>\n",
       "      <td>Demon Slayer: Kimetsu no Yaiba, Demon Slayer: ...</td>\n",
       "      <td>Inosuke Hashibira : Yoshitsugu Matsuoka, Nezuk...</td>\n",
       "      <td>Koyoharu Gotouge : Original Creator, Haruo Sot...</td>\n",
       "      <td>Клинок, рассекающий демонов: Квартал красных ф...</td>\n",
       "      <td>&lt;div class=\"b-text_with_paragraphs\"&gt;Продолжени...</td>\n",
       "      <td>https://shikimori.one/system/animes/original/4...</td>\n",
       "      <td>https://shikimori.one/animes/47778-kimetsu-no-...</td>\n",
       "      <td>demon_slayer</td>\n",
       "      <td>8.82</td>\n",
       "      <td>[13, 15011, 3062, 6269, 4422, 7592, 8325, 1013...</td>\n",
       "    </tr>\n",
       "    <tr>\n",
       "      <th>1</th>\n",
       "      <td>Fruits Basket the Final Season</td>\n",
       "      <td>Fruits Basket the Final</td>\n",
       "      <td>TV</td>\n",
       "      <td>13.0</td>\n",
       "      <td>TMS Entertainment</td>\n",
       "      <td>Spring</td>\n",
       "      <td>Drama, Fantasy, Romance, Shoujo, Animal Transf...</td>\n",
       "      <td>4.60</td>\n",
       "      <td>2021.0</td>\n",
       "      <td>NaN</td>\n",
       "      <td>...</td>\n",
       "      <td>Fruits Basket 1st Season, Fruits Basket 2nd Se...</td>\n",
       "      <td>Akito Sohma : Maaya Sakamoto, Kyo Sohma : Yuum...</td>\n",
       "      <td>Natsuki Takaya : Original Creator, Yoshihide I...</td>\n",
       "      <td>Корзинка фруктов: Финал</td>\n",
       "      <td>&lt;div class=\"b-text_with_paragraphs\"&gt;Сотни лет ...</td>\n",
       "      <td>https://shikimori.one/system/animes/original/4...</td>\n",
       "      <td>https://shikimori.one/animes/42938-fruits-bask...</td>\n",
       "      <td>fruits_basket</td>\n",
       "      <td>9.01</td>\n",
       "      <td>[27, 108, 911, 11948, 5726, 2540, 14694, 4238,...</td>\n",
       "    </tr>\n",
       "    <tr>\n",
       "      <th>2</th>\n",
       "      <td>Mo Dao Zu Shi 3</td>\n",
       "      <td>The Founder of Diabolism 3</td>\n",
       "      <td>Web</td>\n",
       "      <td>12.0</td>\n",
       "      <td>B.C MAY PICTURES</td>\n",
       "      <td>NaN</td>\n",
       "      <td>Fantasy, Ancient China, Chinese Animation, Cul...</td>\n",
       "      <td>4.58</td>\n",
       "      <td>2021.0</td>\n",
       "      <td>NaN</td>\n",
       "      <td>...</td>\n",
       "      <td>Mo Dao Zu Shi 2, Mo Dao Zu Shi Q</td>\n",
       "      <td>Lan Wangji, Wei Wuxian, Jiang Cheng, Jin Guang...</td>\n",
       "      <td>Mo Xiang Tong Xiu : Original Creator, Xiong Ke...</td>\n",
       "      <td>Магистр дьявольского культа 3</td>\n",
       "      <td>&lt;div class=\"b-text_with_paragraphs\"&gt;Жизнь закл...</td>\n",
       "      <td>https://shikimori.one/system/animes/original/4...</td>\n",
       "      <td>https://shikimori.one/animes/40434-mo-dao-zu-s...</td>\n",
       "      <td>mo_dao_zu_shi</td>\n",
       "      <td>8.63</td>\n",
       "      <td>[3205, 2181, 2235, 3722, 2105, 2379, 2678, 682...</td>\n",
       "    </tr>\n",
       "  </tbody>\n",
       "</table>\n",
       "<p>3 rows × 23 columns</p>\n",
       "</div>"
      ]
     },
     "execution_count": 32,
     "metadata": {},
     "output_type": "execute_result"
    }
   ],
   "source": [
    "df_with_recs.head(3)"
   ]
  },
  {
   "cell_type": "code",
   "execution_count": 4,
   "metadata": {},
   "outputs": [
    {
     "data": {
      "text/plain": [
       "['Shiki',\n",
       " 'Higurashi: When They Cry - Sotsu',\n",
       " 'Boogiepop and Others',\n",
       " 'Owarimonogatari',\n",
       " 'Shiki Specials',\n",
       " 'Digital Devil Story Megami Tensei',\n",
       " 'The Garden of Sinners Movie 1: Thanatos. (Overlooking View)',\n",
       " 'Red Garden',\n",
       " 'Higurashi: When They Cry - Gou',\n",
       " 'When They Cry: Higurashi']"
      ]
     },
     "execution_count": 4,
     "metadata": {},
     "output_type": "execute_result"
    }
   ],
   "source": [
    "from typing import List\n",
    "\n",
    "import pandas as pd\n",
    "\n",
    "def get_recommendations(\n",
    "        title: str, title_column_name: str,\n",
    "        recs_column_name: str, df: pd.DataFrame) -> List[str]:\n",
    "    \n",
    "    matches = df[df[title_column_name] == title]\n",
    "    if len(matches) == 0:\n",
    "        matches = df[df[title_column_name].str.contains(title)]\n",
    "\n",
    "    if len(matches) > 1:\n",
    "        print(\n",
    "            \"Too much results ({}). You must choose the only one:\\n{}\".format(\n",
    "                len(matches), \"\\n\".join(matches[title_column_name].to_list())\n",
    "            )\n",
    "        )\n",
    "        return\n",
    "    \n",
    "    item_series = matches.iloc[0]\n",
    "    recs = item_series[recs_column_name]\n",
    "\n",
    "    item_series_by_recs = df.loc[recs]\n",
    "\n",
    "    return item_series_by_recs[title_column_name].to_list()\n",
    "\n",
    "\n",
    "title = \"Another\"\n",
    "\n",
    "get_recommendations(\n",
    "    title,\n",
    "    \"Name\",\n",
    "    \"recommendations\",\n",
    "    df_with_recs\n",
    ")"
   ]
  },
  {
   "cell_type": "code",
   "execution_count": null,
   "metadata": {},
   "outputs": [],
   "source": []
  }
 ],
 "metadata": {
  "kernelspec": {
   "display_name": "base",
   "language": "python",
   "name": "python3"
  },
  "language_info": {
   "codemirror_mode": {
    "name": "ipython",
    "version": 3
   },
   "file_extension": ".py",
   "mimetype": "text/x-python",
   "name": "python",
   "nbconvert_exporter": "python",
   "pygments_lexer": "ipython3",
   "version": "3.8.13"
  },
  "orig_nbformat": 4,
  "vscode": {
   "interpreter": {
    "hash": "e7cb1b9ae4d417fedf7f40a8eec98f7cfbd359e096bd857395a915f4609834ce"
   }
  }
 },
 "nbformat": 4,
 "nbformat_minor": 2
}

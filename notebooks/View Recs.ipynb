{
 "cells": [
  {
   "attachments": {},
   "cell_type": "markdown",
   "metadata": {},
   "source": [
    "# Просмотр сгенерированных рекомендаций"
   ]
  },
  {
   "attachments": {},
   "cell_type": "markdown",
   "metadata": {},
   "source": [
    "Для просмотра сгенерированных рекомендаций будет использоваться пробный запуск Kedro через Python."
   ]
  },
  {
   "cell_type": "code",
   "execution_count": 1,
   "metadata": {},
   "outputs": [],
   "source": [
    "%%capture\n",
    "%load_ext kedro.ipython\n",
    "%reload_kedro .."
   ]
  },
  {
   "cell_type": "code",
   "execution_count": 2,
   "metadata": {},
   "outputs": [
    {
     "name": "stdout",
     "output_type": "stream",
     "text": [
      "\u001b[2;36m[02/26/23 15:00:28]\u001b[0m\u001b[2;36m \u001b[0m\u001b[31mWARNING \u001b[0m \u001b[35m/opt/homebrew/Caskroom/miniconda/ba\u001b[0m \u001b]8;id=117207;file:///opt/homebrew/Caskroom/miniconda/base/lib/python3.8/warnings.py\u001b\\\u001b[2mwarnings.py\u001b[0m\u001b]8;;\u001b\\\u001b[2m:\u001b[0m\u001b]8;id=754282;file:///opt/homebrew/Caskroom/miniconda/base/lib/python3.8/warnings.py#109\u001b\\\u001b[2m109\u001b[0m\u001b]8;;\u001b\\\n",
      "\u001b[2;36m                    \u001b[0m         \u001b[35mse/lib/python3.8/site-packages/jupy\u001b[0m \u001b[2m               \u001b[0m\n",
      "\u001b[2;36m                    \u001b[0m         \u001b[35mter_client/\u001b[0m\u001b[95mconnect.py\u001b[0m:\u001b[1;36m27\u001b[0m:           \u001b[2m               \u001b[0m\n",
      "\u001b[2;36m                    \u001b[0m         DeprecationWarning: Jupyter is      \u001b[2m               \u001b[0m\n",
      "\u001b[2;36m                    \u001b[0m         migrating its paths to use standard \u001b[2m               \u001b[0m\n",
      "\u001b[2;36m                    \u001b[0m         platformdirs                        \u001b[2m               \u001b[0m\n",
      "\u001b[2;36m                    \u001b[0m         given by the platformdirs library.  \u001b[2m               \u001b[0m\n",
      "\u001b[2;36m                    \u001b[0m         To remove this warning and          \u001b[2m               \u001b[0m\n",
      "\u001b[2;36m                    \u001b[0m         see the appropriate new             \u001b[2m               \u001b[0m\n",
      "\u001b[2;36m                    \u001b[0m         directories, set the environment    \u001b[2m               \u001b[0m\n",
      "\u001b[2;36m                    \u001b[0m         variable                            \u001b[2m               \u001b[0m\n",
      "\u001b[2;36m                    \u001b[0m         `\u001b[33mJUPYTER_PLATFORM_DIRS\u001b[0m=\u001b[1;36m1\u001b[0m` and then  \u001b[2m               \u001b[0m\n",
      "\u001b[2;36m                    \u001b[0m         run `jupyter --paths`.              \u001b[2m               \u001b[0m\n",
      "\u001b[2;36m                    \u001b[0m         The use of platformdirs will be the \u001b[2m               \u001b[0m\n",
      "\u001b[2;36m                    \u001b[0m         default in `jupyter_core` v6        \u001b[2m               \u001b[0m\n",
      "\u001b[2;36m                    \u001b[0m           from jupyter_core.paths import    \u001b[2m               \u001b[0m\n",
      "\u001b[2;36m                    \u001b[0m         jupyter_data_dir                    \u001b[2m               \u001b[0m\n",
      "\u001b[2;36m                    \u001b[0m                                             \u001b[2m               \u001b[0m\n",
      "\u001b[2;36m                   \u001b[0m\u001b[2;36m \u001b[0m\u001b[31mWARNING \u001b[0m \u001b[35m/opt/homebrew/Caskroom/miniconda/ba\u001b[0m \u001b]8;id=957131;file:///opt/homebrew/Caskroom/miniconda/base/lib/python3.8/warnings.py\u001b\\\u001b[2mwarnings.py\u001b[0m\u001b]8;;\u001b\\\u001b[2m:\u001b[0m\u001b]8;id=610414;file:///opt/homebrew/Caskroom/miniconda/base/lib/python3.8/warnings.py#109\u001b\\\u001b[2m109\u001b[0m\u001b]8;;\u001b\\\n",
      "\u001b[2;36m                    \u001b[0m         \u001b[35mse/lib/python3.8/site-packages/plot\u001b[0m \u001b[2m               \u001b[0m\n",
      "\u001b[2;36m                    \u001b[0m         \u001b[35mly/graph_objects/\u001b[0m\u001b[95m__init__.py\u001b[0m:\u001b[1;36m287\u001b[0m:   \u001b[2m               \u001b[0m\n",
      "\u001b[2;36m                    \u001b[0m         DeprecationWarning: distutils       \u001b[2m               \u001b[0m\n",
      "\u001b[2;36m                    \u001b[0m         Version classes are deprecated. Use \u001b[2m               \u001b[0m\n",
      "\u001b[2;36m                    \u001b[0m         packaging.version instead.          \u001b[2m               \u001b[0m\n",
      "\u001b[2;36m                    \u001b[0m           if                                \u001b[2m               \u001b[0m\n",
      "\u001b[2;36m                    \u001b[0m         \u001b[1;35mLooseVersion\u001b[0m\u001b[1m(\u001b[0mipywidgets.__version__ \u001b[2m               \u001b[0m\n",
      "\u001b[2;36m                    \u001b[0m         \u001b[1m)\u001b[0m >= \u001b[1;35mLooseVersion\u001b[0m\u001b[1m(\u001b[0m\u001b[32m\"7.0.0\"\u001b[0m\u001b[1m)\u001b[0m:         \u001b[2m               \u001b[0m\n",
      "\u001b[2;36m                    \u001b[0m                                             \u001b[2m               \u001b[0m\n"
     ]
    },
    {
     "data": {
      "text/html": [
       "\n",
       "                <html lang=\"en\"><head></head><body style=\"width:100; height:100;\">\n",
       "                <iframe src=\"http://127.0.0.1:4141/\" height=500 width=\"100%\"></iframe>\n",
       "                </body></html>"
      ]
     },
     "metadata": {},
     "output_type": "display_data"
    }
   ],
   "source": [
    "%run_viz"
   ]
  },
  {
   "cell_type": "code",
   "execution_count": 3,
   "metadata": {},
   "outputs": [],
   "source": [
    "%%capture\n",
    "\n",
    "from kedro.io import DataCatalog, MemoryDataSet\n",
    "from kedro.extras.datasets.pandas import CSVDataSet\n",
    "\n",
    "from kedro.runner import SequentialRunner\n",
    "from kedro.framework.project import pipelines\n",
    "\n",
    "\n",
    "input_csv = \"Anime/data/extended_anime.csv\"\n",
    "out_csv = \"extended_anime_with_recs.csv\"\n",
    "col = \"Tags\"\n",
    "\n",
    "\n",
    "io = DataCatalog(\n",
    "        {\n",
    "            'dataframe': CSVDataSet(filepath=input_csv),\n",
    "            'dataframe_with_recs': MemoryDataSet(),\n",
    "            'params:target_column': MemoryDataSet(col)\n",
    "        }\n",
    "    )\n",
    "\n",
    "    \n",
    "default_pipeline = pipelines['__default__']\n",
    "\n",
    "SequentialRunner().run(default_pipeline, catalog=io)"
   ]
  },
  {
   "cell_type": "code",
   "execution_count": 4,
   "metadata": {},
   "outputs": [
    {
     "data": {
      "text/html": [
       "<pre style=\"white-space:pre;overflow-x:auto;line-height:normal;font-family:Menlo,'DejaVu Sans Mono',consolas,'Courier New',monospace\"><span style=\"color: #7fbfbf; text-decoration-color: #7fbfbf\">[02/26/23 15:01:01] </span><span style=\"color: #000080; text-decoration-color: #000080\">INFO    </span> Loading data from <span style=\"color: #008000; text-decoration-color: #008000\">'dataframe_with_recs'</span> <span style=\"font-weight: bold\">(</span>MemoryDataSet<span style=\"font-weight: bold\">)</span><span style=\"color: #808000; text-decoration-color: #808000\">...</span>         <a href=\"file:///opt/homebrew/Caskroom/miniconda/base/lib/python3.8/site-packages/kedro/io/data_catalog.py\" target=\"_blank\"><span style=\"color: #7f7f7f; text-decoration-color: #7f7f7f\">data_catalog.py</span></a><span style=\"color: #7f7f7f; text-decoration-color: #7f7f7f\">:</span><a href=\"file:///opt/homebrew/Caskroom/miniconda/base/lib/python3.8/site-packages/kedro/io/data_catalog.py#343\" target=\"_blank\"><span style=\"color: #7f7f7f; text-decoration-color: #7f7f7f\">343</span></a>\n",
       "</pre>\n"
      ],
      "text/plain": [
       "\u001b[2;36m[02/26/23 15:01:01]\u001b[0m\u001b[2;36m \u001b[0m\u001b[34mINFO    \u001b[0m Loading data from \u001b[32m'dataframe_with_recs'\u001b[0m \u001b[1m(\u001b[0mMemoryDataSet\u001b[1m)\u001b[0m\u001b[33m...\u001b[0m         \u001b]8;id=623472;file:///opt/homebrew/Caskroom/miniconda/base/lib/python3.8/site-packages/kedro/io/data_catalog.py\u001b\\\u001b[2mdata_catalog.py\u001b[0m\u001b]8;;\u001b\\\u001b[2m:\u001b[0m\u001b]8;id=743956;file:///opt/homebrew/Caskroom/miniconda/base/lib/python3.8/site-packages/kedro/io/data_catalog.py#343\u001b\\\u001b[2m343\u001b[0m\u001b]8;;\u001b\\\n"
      ]
     },
     "metadata": {},
     "output_type": "display_data"
    }
   ],
   "source": [
    "df_with_recs = io.load('dataframe_with_recs')"
   ]
  },
  {
   "cell_type": "code",
   "execution_count": 5,
   "metadata": {},
   "outputs": [
    {
     "data": {
      "text/html": [
       "<div>\n",
       "<style scoped>\n",
       "    .dataframe tbody tr th:only-of-type {\n",
       "        vertical-align: middle;\n",
       "    }\n",
       "\n",
       "    .dataframe tbody tr th {\n",
       "        vertical-align: top;\n",
       "    }\n",
       "\n",
       "    .dataframe thead th {\n",
       "        text-align: right;\n",
       "    }\n",
       "</style>\n",
       "<table border=\"1\" class=\"dataframe\">\n",
       "  <thead>\n",
       "    <tr style=\"text-align: right;\">\n",
       "      <th></th>\n",
       "      <th>Rank</th>\n",
       "      <th>Name</th>\n",
       "      <th>Japanese_name</th>\n",
       "      <th>Type</th>\n",
       "      <th>Episodes</th>\n",
       "      <th>Studio</th>\n",
       "      <th>Release_season</th>\n",
       "      <th>Tags</th>\n",
       "      <th>Rating</th>\n",
       "      <th>Release_year</th>\n",
       "      <th>...</th>\n",
       "      <th>Related_anime</th>\n",
       "      <th>Voice_actors</th>\n",
       "      <th>staff</th>\n",
       "      <th>Russian_name</th>\n",
       "      <th>Russian_description</th>\n",
       "      <th>Image_url</th>\n",
       "      <th>Shikimori_url</th>\n",
       "      <th>Franchise</th>\n",
       "      <th>Shikimori_rating</th>\n",
       "      <th>recommendations</th>\n",
       "    </tr>\n",
       "  </thead>\n",
       "  <tbody>\n",
       "    <tr>\n",
       "      <th>0</th>\n",
       "      <td>1</td>\n",
       "      <td>Demon Slayer: Kimetsu no Yaiba - Entertainment...</td>\n",
       "      <td>Kimetsu no Yaiba: Yuukaku-hen</td>\n",
       "      <td>TV</td>\n",
       "      <td>NaN</td>\n",
       "      <td>ufotable</td>\n",
       "      <td>Fall</td>\n",
       "      <td>Action, Adventure, Fantasy, Shounen, Demons, H...</td>\n",
       "      <td>4.60</td>\n",
       "      <td>2021.0</td>\n",
       "      <td>...</td>\n",
       "      <td>Demon Slayer: Kimetsu no Yaiba, Demon Slayer: ...</td>\n",
       "      <td>Inosuke Hashibira : Yoshitsugu Matsuoka, Nezuk...</td>\n",
       "      <td>Koyoharu Gotouge : Original Creator, Haruo Sot...</td>\n",
       "      <td>Клинок, рассекающий демонов: Квартал красных ф...</td>\n",
       "      <td>&lt;div class=\"b-text_with_paragraphs\"&gt;Продолжени...</td>\n",
       "      <td>https://shikimori.one/system/animes/original/4...</td>\n",
       "      <td>https://shikimori.one/animes/47778-kimetsu-no-...</td>\n",
       "      <td>demon_slayer</td>\n",
       "      <td>8.82</td>\n",
       "      <td>[12, 15010, 3061, 6268, 4421, 7591, 8324, 1013...</td>\n",
       "    </tr>\n",
       "    <tr>\n",
       "      <th>1</th>\n",
       "      <td>2</td>\n",
       "      <td>Fruits Basket the Final Season</td>\n",
       "      <td>Fruits Basket the Final</td>\n",
       "      <td>TV</td>\n",
       "      <td>13.0</td>\n",
       "      <td>TMS Entertainment</td>\n",
       "      <td>Spring</td>\n",
       "      <td>Drama, Fantasy, Romance, Shoujo, Animal Transf...</td>\n",
       "      <td>4.60</td>\n",
       "      <td>2021.0</td>\n",
       "      <td>...</td>\n",
       "      <td>Fruits Basket 1st Season, Fruits Basket 2nd Se...</td>\n",
       "      <td>Akito Sohma : Maaya Sakamoto, Kyo Sohma : Yuum...</td>\n",
       "      <td>Natsuki Takaya : Original Creator, Yoshihide I...</td>\n",
       "      <td>Корзинка фруктов: Финал</td>\n",
       "      <td>&lt;div class=\"b-text_with_paragraphs\"&gt;Сотни лет ...</td>\n",
       "      <td>https://shikimori.one/system/animes/original/4...</td>\n",
       "      <td>https://shikimori.one/animes/42938-fruits-bask...</td>\n",
       "      <td>fruits_basket</td>\n",
       "      <td>9.01</td>\n",
       "      <td>[26, 107, 910, 11947, 5725, 2539, 14693, 4237,...</td>\n",
       "    </tr>\n",
       "    <tr>\n",
       "      <th>2</th>\n",
       "      <td>3</td>\n",
       "      <td>Mo Dao Zu Shi 3</td>\n",
       "      <td>The Founder of Diabolism 3</td>\n",
       "      <td>Web</td>\n",
       "      <td>12.0</td>\n",
       "      <td>B.C MAY PICTURES</td>\n",
       "      <td>NaN</td>\n",
       "      <td>Fantasy, Ancient China, Chinese Animation, Cul...</td>\n",
       "      <td>4.58</td>\n",
       "      <td>2021.0</td>\n",
       "      <td>...</td>\n",
       "      <td>Mo Dao Zu Shi 2, Mo Dao Zu Shi Q</td>\n",
       "      <td>Lan Wangji, Wei Wuxian, Jiang Cheng, Jin Guang...</td>\n",
       "      <td>Mo Xiang Tong Xiu : Original Creator, Xiong Ke...</td>\n",
       "      <td>Магистр дьявольского культа 3</td>\n",
       "      <td>&lt;div class=\"b-text_with_paragraphs\"&gt;Жизнь закл...</td>\n",
       "      <td>https://shikimori.one/system/animes/original/4...</td>\n",
       "      <td>https://shikimori.one/animes/40434-mo-dao-zu-s...</td>\n",
       "      <td>mo_dao_zu_shi</td>\n",
       "      <td>8.63</td>\n",
       "      <td>[3204, 2180, 2234, 3721, 2104, 2378, 2677, 682...</td>\n",
       "    </tr>\n",
       "  </tbody>\n",
       "</table>\n",
       "<p>3 rows × 24 columns</p>\n",
       "</div>"
      ]
     },
     "execution_count": 5,
     "metadata": {},
     "output_type": "execute_result"
    }
   ],
   "source": [
    "df_with_recs.head(3)"
   ]
  },
  {
   "cell_type": "code",
   "execution_count": 8,
   "metadata": {},
   "outputs": [
    {
     "data": {
      "text/html": [
       "<pre style=\"white-space:pre;overflow-x:auto;line-height:normal;font-family:Menlo,'DejaVu Sans Mono',consolas,'Courier New',monospace\">\n",
       "Rank                                                                   <span style=\"color: #008080; text-decoration-color: #008080; font-weight: bold\">2</span>\n",
       "Name                                      Fruits Basket the Final Season\n",
       "Japanese_name                                    Fruits Basket the Final\n",
       "Type                                                               TV   \n",
       "Episodes                                                            <span style=\"color: #008080; text-decoration-color: #008080; font-weight: bold\">13.0</span>\n",
       "Studio                                                 TMS Entertainment\n",
       "Release_season                                                    Spring\n",
       "Tags                   Drama, Fantasy, Romance, Shoujo, Animal Transf<span style=\"color: #808000; text-decoration-color: #808000\">...</span>\n",
       "Rating                                                               <span style=\"color: #008080; text-decoration-color: #008080; font-weight: bold\">4.6</span>\n",
       "Release_year                                                      <span style=\"color: #008080; text-decoration-color: #008080; font-weight: bold\">2021.0</span>\n",
       "End_year                                                             NaN\n",
       "Description                            <span style=\"color: #008000; text-decoration-color: #008000\">'The final arc of Fruits Basket.'</span>\n",
       "Content_Warning        Emotional Abuse,, Mature Themes,, Physical Abu<span style=\"color: #808000; text-decoration-color: #808000\">...</span>\n",
       "Related_Mange                       Fruits Basket, Fruits Basket Another\n",
       "Related_anime          Fruits Basket 1st Season, Fruits Basket 2nd Se<span style=\"color: #808000; text-decoration-color: #808000\">...</span>\n",
       "Voice_actors           Akito Sohma : Maaya Sakamoto, Kyo Sohma : Yuum<span style=\"color: #808000; text-decoration-color: #808000\">...</span>\n",
       "staff                  Natsuki Takaya : Original Creator, Yoshihide I<span style=\"color: #808000; text-decoration-color: #808000\">...</span>\n",
       "Russian_name                                     Корзинка фруктов: Финал\n",
       "Russian_description    <span style=\"font-weight: bold\">&lt;</span><span style=\"color: #ff00ff; text-decoration-color: #ff00ff; font-weight: bold\">div</span><span style=\"color: #000000; text-decoration-color: #000000\"> </span><span style=\"color: #808000; text-decoration-color: #808000\">class</span><span style=\"color: #000000; text-decoration-color: #000000\">=</span><span style=\"color: #008000; text-decoration-color: #008000\">\"b-text_with_paragraphs\"</span><span style=\"font-weight: bold\">&gt;</span>Сотни лет <span style=\"color: #808000; text-decoration-color: #808000\">...</span>\n",
       "Image_url              <span style=\"color: #0000ff; text-decoration-color: #0000ff; text-decoration: underline\">https://shikimori.one/system/animes/original/4...</span>\n",
       "Shikimori_url          <span style=\"color: #0000ff; text-decoration-color: #0000ff; text-decoration: underline\">https://shikimori.one/animes/42938-fruits-bask...</span>\n",
       "Franchise                                                  fruits_basket\n",
       "Shikimori_rating                                                    <span style=\"color: #008080; text-decoration-color: #008080; font-weight: bold\">9.01</span>\n",
       "recommendations        <span style=\"font-weight: bold\">[</span><span style=\"color: #008080; text-decoration-color: #008080; font-weight: bold\">26</span>, <span style=\"color: #008080; text-decoration-color: #008080; font-weight: bold\">107</span>, <span style=\"color: #008080; text-decoration-color: #008080; font-weight: bold\">910</span>, <span style=\"color: #008080; text-decoration-color: #008080; font-weight: bold\">11947</span>, <span style=\"color: #008080; text-decoration-color: #008080; font-weight: bold\">5725</span>, <span style=\"color: #008080; text-decoration-color: #008080; font-weight: bold\">2539</span>, <span style=\"color: #008080; text-decoration-color: #008080; font-weight: bold\">14693</span>, <span style=\"color: #008080; text-decoration-color: #008080; font-weight: bold\">4237</span>,<span style=\"color: #808000; text-decoration-color: #808000\">...</span>\n",
       "Name: <span style=\"color: #008080; text-decoration-color: #008080; font-weight: bold\">1</span>, dtype: object\n",
       "</pre>\n"
      ],
      "text/plain": [
       "\n",
       "Rank                                                                   \u001b[1;36m2\u001b[0m\n",
       "Name                                      Fruits Basket the Final Season\n",
       "Japanese_name                                    Fruits Basket the Final\n",
       "Type                                                               TV   \n",
       "Episodes                                                            \u001b[1;36m13.0\u001b[0m\n",
       "Studio                                                 TMS Entertainment\n",
       "Release_season                                                    Spring\n",
       "Tags                   Drama, Fantasy, Romance, Shoujo, Animal Transf\u001b[33m...\u001b[0m\n",
       "Rating                                                               \u001b[1;36m4.6\u001b[0m\n",
       "Release_year                                                      \u001b[1;36m2021.0\u001b[0m\n",
       "End_year                                                             NaN\n",
       "Description                            \u001b[32m'The final arc of Fruits Basket.'\u001b[0m\n",
       "Content_Warning        Emotional Abuse,, Mature Themes,, Physical Abu\u001b[33m...\u001b[0m\n",
       "Related_Mange                       Fruits Basket, Fruits Basket Another\n",
       "Related_anime          Fruits Basket 1st Season, Fruits Basket 2nd Se\u001b[33m...\u001b[0m\n",
       "Voice_actors           Akito Sohma : Maaya Sakamoto, Kyo Sohma : Yuum\u001b[33m...\u001b[0m\n",
       "staff                  Natsuki Takaya : Original Creator, Yoshihide I\u001b[33m...\u001b[0m\n",
       "Russian_name                                     Корзинка фруктов: Финал\n",
       "Russian_description    \u001b[1m<\u001b[0m\u001b[1;95mdiv\u001b[0m\u001b[39m \u001b[0m\u001b[33mclass\u001b[0m\u001b[39m=\u001b[0m\u001b[32m\"b\u001b[0m\u001b[32m-text_with_paragraphs\"\u001b[0m\u001b[1m>\u001b[0mСотни лет \u001b[33m...\u001b[0m\n",
       "Image_url              \u001b[4;94mhttps://shikimori.one/system/animes/original/4...\u001b[0m\n",
       "Shikimori_url          \u001b[4;94mhttps://shikimori.one/animes/42938-fruits-bask...\u001b[0m\n",
       "Franchise                                                  fruits_basket\n",
       "Shikimori_rating                                                    \u001b[1;36m9.01\u001b[0m\n",
       "recommendations        \u001b[1m[\u001b[0m\u001b[1;36m26\u001b[0m, \u001b[1;36m107\u001b[0m, \u001b[1;36m910\u001b[0m, \u001b[1;36m11947\u001b[0m, \u001b[1;36m5725\u001b[0m, \u001b[1;36m2539\u001b[0m, \u001b[1;36m14693\u001b[0m, \u001b[1;36m4237\u001b[0m,\u001b[33m...\u001b[0m\n",
       "Name: \u001b[1;36m1\u001b[0m, dtype: object\n"
      ]
     },
     "metadata": {},
     "output_type": "display_data"
    }
   ],
   "source": []
  },
  {
   "cell_type": "code",
   "execution_count": 16,
   "metadata": {},
   "outputs": [
    {
     "data": {
      "text/html": [
       "<div>\n",
       "<style scoped>\n",
       "    .dataframe tbody tr th:only-of-type {\n",
       "        vertical-align: middle;\n",
       "    }\n",
       "\n",
       "    .dataframe tbody tr th {\n",
       "        vertical-align: top;\n",
       "    }\n",
       "\n",
       "    .dataframe thead th {\n",
       "        text-align: right;\n",
       "    }\n",
       "</style>\n",
       "<table border=\"1\" class=\"dataframe\">\n",
       "  <thead>\n",
       "    <tr style=\"text-align: right;\">\n",
       "      <th></th>\n",
       "      <th>Name</th>\n",
       "      <th>Japanese_name</th>\n",
       "      <th>Type</th>\n",
       "      <th>Episodes</th>\n",
       "      <th>Studio</th>\n",
       "      <th>Release_season</th>\n",
       "      <th>Tags</th>\n",
       "      <th>Rating</th>\n",
       "      <th>Release_year</th>\n",
       "      <th>End_year</th>\n",
       "      <th>...</th>\n",
       "      <th>Related_anime</th>\n",
       "      <th>Voice_actors</th>\n",
       "      <th>staff</th>\n",
       "      <th>Russian_name</th>\n",
       "      <th>Russian_description</th>\n",
       "      <th>Image_url</th>\n",
       "      <th>Shikimori_url</th>\n",
       "      <th>Franchise</th>\n",
       "      <th>Shikimori_rating</th>\n",
       "      <th>recommendations</th>\n",
       "    </tr>\n",
       "    <tr>\n",
       "      <th>Rank</th>\n",
       "      <th></th>\n",
       "      <th></th>\n",
       "      <th></th>\n",
       "      <th></th>\n",
       "      <th></th>\n",
       "      <th></th>\n",
       "      <th></th>\n",
       "      <th></th>\n",
       "      <th></th>\n",
       "      <th></th>\n",
       "      <th></th>\n",
       "      <th></th>\n",
       "      <th></th>\n",
       "      <th></th>\n",
       "      <th></th>\n",
       "      <th></th>\n",
       "      <th></th>\n",
       "      <th></th>\n",
       "      <th></th>\n",
       "      <th></th>\n",
       "      <th></th>\n",
       "    </tr>\n",
       "  </thead>\n",
       "  <tbody>\n",
       "    <tr>\n",
       "      <th>1</th>\n",
       "      <td>Demon Slayer: Kimetsu no Yaiba - Entertainment...</td>\n",
       "      <td>Kimetsu no Yaiba: Yuukaku-hen</td>\n",
       "      <td>TV</td>\n",
       "      <td>NaN</td>\n",
       "      <td>ufotable</td>\n",
       "      <td>Fall</td>\n",
       "      <td>Action, Adventure, Fantasy, Shounen, Demons, H...</td>\n",
       "      <td>4.6</td>\n",
       "      <td>2021.0</td>\n",
       "      <td>NaN</td>\n",
       "      <td>...</td>\n",
       "      <td>Demon Slayer: Kimetsu no Yaiba, Demon Slayer: ...</td>\n",
       "      <td>Inosuke Hashibira : Yoshitsugu Matsuoka, Nezuk...</td>\n",
       "      <td>Koyoharu Gotouge : Original Creator, Haruo Sot...</td>\n",
       "      <td>Клинок, рассекающий демонов: Квартал красных ф...</td>\n",
       "      <td>&lt;div class=\"b-text_with_paragraphs\"&gt;Продолжени...</td>\n",
       "      <td>https://shikimori.one/system/animes/original/4...</td>\n",
       "      <td>https://shikimori.one/animes/47778-kimetsu-no-...</td>\n",
       "      <td>demon_slayer</td>\n",
       "      <td>8.82</td>\n",
       "      <td>[12, 15010, 3061, 6268, 4421, 7591, 8324, 1013...</td>\n",
       "    </tr>\n",
       "    <tr>\n",
       "      <th>2</th>\n",
       "      <td>Fruits Basket the Final Season</td>\n",
       "      <td>Fruits Basket the Final</td>\n",
       "      <td>TV</td>\n",
       "      <td>13.0</td>\n",
       "      <td>TMS Entertainment</td>\n",
       "      <td>Spring</td>\n",
       "      <td>Drama, Fantasy, Romance, Shoujo, Animal Transf...</td>\n",
       "      <td>4.6</td>\n",
       "      <td>2021.0</td>\n",
       "      <td>NaN</td>\n",
       "      <td>...</td>\n",
       "      <td>Fruits Basket 1st Season, Fruits Basket 2nd Se...</td>\n",
       "      <td>Akito Sohma : Maaya Sakamoto, Kyo Sohma : Yuum...</td>\n",
       "      <td>Natsuki Takaya : Original Creator, Yoshihide I...</td>\n",
       "      <td>Корзинка фруктов: Финал</td>\n",
       "      <td>&lt;div class=\"b-text_with_paragraphs\"&gt;Сотни лет ...</td>\n",
       "      <td>https://shikimori.one/system/animes/original/4...</td>\n",
       "      <td>https://shikimori.one/animes/42938-fruits-bask...</td>\n",
       "      <td>fruits_basket</td>\n",
       "      <td>9.01</td>\n",
       "      <td>[26, 107, 910, 11947, 5725, 2539, 14693, 4237,...</td>\n",
       "    </tr>\n",
       "  </tbody>\n",
       "</table>\n",
       "<p>2 rows × 23 columns</p>\n",
       "</div>"
      ]
     },
     "execution_count": 16,
     "metadata": {},
     "output_type": "execute_result"
    }
   ],
   "source": [
    "df_with_recs.set_index(\"Rank\").head(2)"
   ]
  },
  {
   "cell_type": "code",
   "execution_count": 21,
   "metadata": {},
   "outputs": [
    {
     "data": {
      "text/html": [
       "<pre style=\"white-space:pre;overflow-x:auto;line-height:normal;font-family:Menlo,'DejaVu Sans Mono',consolas,'Courier New',monospace\"><span style=\"font-weight: bold\">[</span><span style=\"color: #008000; text-decoration-color: #008000\">'Demon Slayer: Kimetsu no Yaiba - Entertainment District Arc'</span>, <span style=\"color: #008000; text-decoration-color: #008000\">'Fruits Basket the Final Season'</span><span style=\"font-weight: bold\">]</span>\n",
       "</pre>\n"
      ],
      "text/plain": [
       "\u001b[1m[\u001b[0m\u001b[32m'Demon Slayer: Kimetsu no Yaiba - Entertainment District Arc'\u001b[0m, \u001b[32m'Fruits Basket the Final Season'\u001b[0m\u001b[1m]\u001b[0m\n"
      ]
     },
     "metadata": {},
     "output_type": "display_data"
    }
   ],
   "source": [
    "df_with_recs.set_index(\"Rank\").loc[[1, 2]].Name.to_list()"
   ]
  },
  {
   "cell_type": "code",
   "execution_count": 34,
   "metadata": {},
   "outputs": [
    {
     "data": {
      "text/html": [
       "<pre style=\"white-space:pre;overflow-x:auto;line-height:normal;font-family:Menlo,'DejaVu Sans Mono',consolas,'Courier New',monospace\">\n",
       "<span style=\"font-weight: bold\">[</span>\n",
       "    <span style=\"color: #008000; text-decoration-color: #008000\">'Cowboy Bebop: The Movie'</span>,\n",
       "    <span style=\"color: #008000; text-decoration-color: #008000\">'Gall Force 3: Stardust War'</span>,\n",
       "    <span style=\"color: #008000; text-decoration-color: #008000\">'Gall Force 2: Destruction'</span>,\n",
       "    <span style=\"color: #008000; text-decoration-color: #008000\">'Star Blazers: Space Battleship Yamato 2202'</span>,\n",
       "    <span style=\"color: #008000; text-decoration-color: #008000\">'Gall Force 1: Eternal Story'</span>,\n",
       "    <span style=\"color: #008000; text-decoration-color: #008000\">'Gun x Sword'</span>,\n",
       "    <span style=\"color: #008000; text-decoration-color: #008000\">'Galaxy Cyclone Braiger'</span>,\n",
       "    <span style=\"color: #008000; text-decoration-color: #008000\">'GoShogun: The Time Etranger'</span>,\n",
       "    <span style=\"color: #008000; text-decoration-color: #008000\">'Mighty Space Miners'</span>,\n",
       "    <span style=\"color: #008000; text-decoration-color: #008000\">'Twinkle Heart: Gingakei Made Todokanai'</span>\n",
       "<span style=\"font-weight: bold\">]</span>\n",
       "</pre>\n"
      ],
      "text/plain": [
       "\n",
       "\u001b[1m[\u001b[0m\n",
       "    \u001b[32m'Cowboy Bebop: The Movie'\u001b[0m,\n",
       "    \u001b[32m'Gall Force 3: Stardust War'\u001b[0m,\n",
       "    \u001b[32m'Gall Force 2: Destruction'\u001b[0m,\n",
       "    \u001b[32m'Star Blazers: Space Battleship Yamato 2202'\u001b[0m,\n",
       "    \u001b[32m'Gall Force 1: Eternal Story'\u001b[0m,\n",
       "    \u001b[32m'Gun x Sword'\u001b[0m,\n",
       "    \u001b[32m'Galaxy Cyclone Braiger'\u001b[0m,\n",
       "    \u001b[32m'GoShogun: The Time Etranger'\u001b[0m,\n",
       "    \u001b[32m'Mighty Space Miners'\u001b[0m,\n",
       "    \u001b[32m'Twinkle Heart: Gingakei Made Todokanai'\u001b[0m\n",
       "\u001b[1m]\u001b[0m\n"
      ]
     },
     "metadata": {},
     "output_type": "display_data"
    }
   ],
   "source": [
    "from typing import List\n",
    "\n",
    "import pandas as pd\n",
    "\n",
    "def get_recommendations(\n",
    "        title: str, title_column_name: str,\n",
    "        recs_column_name: str, df: pd.DataFrame) -> List[str]:\n",
    "    \n",
    "    matches = df[df[title_column_name] == title]\n",
    "    if len(matches) == 0:\n",
    "        matches = df[df[title_column_name].str.contains(title)]\n",
    "\n",
    "    if len(matches) > 1:\n",
    "        print(\n",
    "            \"Too much results ({}). You must choose the only one:\\n{}\".format(\n",
    "                len(matches), \"\\n\".join(matches[title_column_name].to_list())\n",
    "            )\n",
    "        )\n",
    "        return\n",
    "    \n",
    "    item_series = matches.iloc[0]\n",
    "    recs = item_series[recs_column_name]\n",
    "\n",
    "    item_series_by_recs = df.loc[recs]\n",
    "\n",
    "    return item_series_by_recs[title_column_name].to_list()\n",
    "\n",
    "\n",
    "title = \"Cowboy Bebop\"\n",
    "\n",
    "get_recommendations(\n",
    "    title,\n",
    "    \"Name\",\n",
    "    \"recommendations\",\n",
    "    df_with_recs\n",
    ")"
   ]
  }
 ],
 "metadata": {
  "kernelspec": {
   "display_name": "base",
   "language": "python",
   "name": "python3"
  },
  "language_info": {
   "codemirror_mode": {
    "name": "ipython",
    "version": 3
   },
   "file_extension": ".py",
   "mimetype": "text/x-python",
   "name": "python",
   "nbconvert_exporter": "python",
   "pygments_lexer": "ipython3",
   "version": "3.8.13"
  },
  "orig_nbformat": 4,
  "vscode": {
   "interpreter": {
    "hash": "e7cb1b9ae4d417fedf7f40a8eec98f7cfbd359e096bd857395a915f4609834ce"
   }
  }
 },
 "nbformat": 4,
 "nbformat_minor": 2
}
